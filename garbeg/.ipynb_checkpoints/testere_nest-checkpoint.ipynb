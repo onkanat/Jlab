{
 "cells": [
  {
   "cell_type": "code",
   "execution_count": 46,
   "id": "0c88bba5-c65e-4d64-8fff-080c6caeca08",
   "metadata": {},
   "outputs": [
    {
     "name": "stdout",
     "output_type": "stream",
     "text": [
      "Kesilen Miktar: 6055\n",
      "Kalan Boy: -55\n",
      "Kesim Talası: 30\n",
      "Malzeme Yetmez!!! Kalan Boy: -55\n"
     ]
    }
   ],
   "source": [
    "\"\"\"\n",
    "/Library/Frameworks/Python.framework/Versions/3.11/bin/python3\n",
    "/usr/local/bin/python3\n",
    "/usr/bin/python3\n",
    "\n",
    "Dosya Adı: kesim_nest.py\n",
    "Yazar: Hakan KILIÇASLAN\n",
    "Açıklama: T150 için kesilen malzeme durumunu gözetlemek.\n",
    "Versiyon: 0.150.01\n",
    "Tarih: 4 October 2023\n",
    "\n",
    "<İsteğe Bağlı Ek Bilgi veya Notlar>\n",
    "\n",
    "\"\"\"\n",
    "\n",
    "\n",
    "import math\n",
    "\n",
    "# KESİLECEK Çapa göre testere bağlatmaya zorla.\n",
    "# Testere listesine kesme verileride konabilir.\n",
    "\n",
    "Testere = [[460, 60, 2.75],\n",
    "           [360, 60, 2,75],\n",
    "           [250, 60, 2,50]\n",
    "          ]\n",
    "\n",
    "uc_kes = 25        # Malzeme çaplarına göre sabit değerler konabilir.\n",
    "ham_boy = 6000     # Ana kesim ekranından girilecek.\n",
    "kesim_boy = 600    # Kesim parçası giriş ekranından alınacak.\n",
    "kesim_adet = 10    # Kesim parçası giriş ekranından alınacak.\n",
    "uc_kesim_varmi = True # Kesim parçası giriş ekranından alınacak.\n",
    "testere_payi = 3   # Testere listesinden Alınacak.\n",
    "\n",
    "# Kesim miktarını hesapla\n",
    "kesilen_miktar = kesim_adet * (kesim_boy + testere_payi)\n",
    "\n",
    "# Uç kesim varsa ekleyin\n",
    "if uc_kesim_varmi:\n",
    "    kesilen_miktar += uc_kes\n",
    "\n",
    "# Kalan boyu hesapla\n",
    "kalan_boy = ham_boy - kesilen_miktar\n",
    "\n",
    "# Kesim taşı miktarını hesapla\n",
    "kesim_talasi = kesim_adet * testere_payi\n",
    "\n",
    "print(\"Kesilen Miktar:\", kesilen_miktar)\n",
    "print(\"Kalan Boy:\", kalan_boy)\n",
    "print(\"Kesim Talası:\", kesim_talasi)\n",
    "\n",
    "# Malzeme yetmezse uyarı ver\n",
    "if kesilen_miktar > ham_boy:\n",
    "    print(\"Malzeme Yetmez!!! Kalan Boy:\", kalan_boy)\n"
   ]
  },
  {
   "cell_type": "code",
   "execution_count": 1,
   "id": "0de1261d-ac49-42b9-a2f3-b17651d0fba7",
   "metadata": {},
   "outputs": [],
   "source": [
    "from wolframclient.evaluation import WolframLanguageSession\n",
    "from wolframclient.language import wl, wlexpr\n",
    "session = WolframLanguageSession()"
   ]
  },
  {
   "cell_type": "code",
   "execution_count": 2,
   "id": "00f8b78e-c17e-4a81-96de-7d200cb9a595",
   "metadata": {},
   "outputs": [
    {
     "data": {
      "text/plain": [
       "PackedArray([1, 2, 3, 4, 5], dtype=int8)"
      ]
     },
     "execution_count": 2,
     "metadata": {},
     "output_type": "execute_result"
    }
   ],
   "source": [
    "session.evaluate(wlexpr('Range[5]'))"
   ]
  },
  {
   "cell_type": "code",
   "execution_count": 4,
   "id": "9db16dd0-d143-44d2-872d-f6bac463c1aa",
   "metadata": {},
   "outputs": [],
   "source": [
    "session.terminate()"
   ]
  },
  {
   "cell_type": "code",
   "execution_count": null,
   "id": "075f2f23-19be-4916-8dd5-77c223eaf9f8",
   "metadata": {},
   "outputs": [],
   "source": []
  }
 ],
 "metadata": {
  "kernelspec": {
   "display_name": "Python 3 (ipykernel)",
   "language": "python",
   "name": "python3"
  },
  "language_info": {
   "codemirror_mode": {
    "name": "ipython",
    "version": 3
   },
   "file_extension": ".py",
   "mimetype": "text/x-python",
   "name": "python",
   "nbconvert_exporter": "python",
   "pygments_lexer": "ipython3",
   "version": "3.8.17"
  }
 },
 "nbformat": 4,
 "nbformat_minor": 5
}
