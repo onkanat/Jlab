{
 "cells": [
  {
   "cell_type": "code",
   "execution_count": 1,
   "id": "0c88bba5-c65e-4d64-8fff-080c6caeca08",
   "metadata": {},
   "outputs": [
    {
     "name": "stdout",
     "output_type": "stream",
     "text": [
      "Kesilen Miktar: 6055\n",
      "Kalan Boy: -55\n",
      "Kesim Talası: 30\n",
      "Malzeme Yetmez!!! Kalan Boy: -55\n"
     ]
    }
   ],
   "source": [
    "\"\"\"\n",
    "/Library/Frameworks/Python.framework/Versions/3.11/bin/python3\n",
    "/usr/local/bin/python3\n",
    "/usr/bin/python3\n",
    "\n",
    "Dosya Adı: kesim_nest.py\n",
    "Yazar: Hakan KILIÇASLAN\n",
    "Açıklama: T150 için kesilen malzeme durumunu gözetlemek.\n",
    "Versiyon: 0.150.01\n",
    "Tarih: 4 October 2023\n",
    "\n",
    "<İsteğe Bağlı Ek Bilgi veya Notlar>\n",
    "\n",
    "\"\"\"\n",
    "\n",
    "\n",
    "import math\n",
    "\n",
    "# KESİLECEK Çapa göre testere bağlatmaya zorla.\n",
    "# Testere listesine kesme verileride konabilir.\n",
    "\n",
    "Testere = [[460, 60, 2.75],\n",
    "           [360, 60, 2,75],\n",
    "           [250, 60, 2,50]\n",
    "          ]\n",
    "\n",
    "uc_kes = 25        # Malzeme çaplarına göre sabit değerler konabilir.\n",
    "ham_boy = 6000     # Ana kesim ekranından girilecek.\n",
    "kesim_boy = 600    # Kesim parçası giriş ekranından alınacak.\n",
    "kesim_adet = 10    # Kesim parçası giriş ekranından alınacak.\n",
    "uc_kesim_varmi = True # Kesim parçası giriş ekranından alınacak.\n",
    "testere_payi = 3   # Testere listesinden Alınacak.\n",
    "\n",
    "# Kesim miktarını hesapla\n",
    "kesilen_miktar = kesim_adet * (kesim_boy + testere_payi)\n",
    "\n",
    "# Uç kesim varsa ekleyin\n",
    "if uc_kesim_varmi:\n",
    "    kesilen_miktar += uc_kes\n",
    "\n",
    "# Kalan boyu hesapla\n",
    "kalan_boy = ham_boy - kesilen_miktar\n",
    "\n",
    "# Kesim taşı miktarını hesapla\n",
    "kesim_talasi = kesim_adet * testere_payi\n",
    "\n",
    "print(\"Kesilen Miktar:\", kesilen_miktar)\n",
    "print(\"Kalan Boy:\", kalan_boy)\n",
    "print(\"Kesim Talası:\", kesim_talasi)\n",
    "\n",
    "# Malzeme yetmezse uyarı ver\n",
    "if kesilen_miktar > ham_boy:\n",
    "    print(\"Malzeme Yetmez!!! Kalan Boy:\", kalan_boy)\n"
   ]
  },
  {
   "cell_type": "markdown",
   "id": "6326239b-9798-45eb-91fc-867d61dd76cd",
   "metadata": {},
   "source": [
    "## Kesme Devri Hesaplama:\n",
    "\n",
    "    * Testere çaplarını dikkate al : 360 ve 460\n",
    "    "
   ]
  },
  {
   "cell_type": "code",
   "execution_count": 5,
   "id": "86967b04-77aa-48a3-a1e6-7e3c6f98e6de",
   "metadata": {},
   "outputs": [],
   "source": [
    "import math\n",
    "\n",
    "Vc = 100 # kesme hızı m/dak\n",
    "t_d = 100 # Testere çapı mm\n",
    "t_n = 100 # Testere dönüş hızı d/dak\n",
    "t_z = 100 # Testere diş sayısı\n",
    "fz = 0.04 # Diş başına ilerleme\n",
    "t_f = t_z * fz # Testere ilerlemesi\n",
    "\n",
    "\n",
    "def Vc(t_d,t_n): # Çapı ve dönüş hızı verilen testerenin kesme hızını hesaplar.\n",
    "    Vc = (math.pi * t_d * t_n)/1000\n",
    "    return Vc\n",
    "\n",
    "def t_n(Vc, t_d): # Kesme hızı ve Testere çapına göre dönüş devrini hesaplar.\n",
    "    t_n = (Vc * 1000)/(math.pi * t_d)\n",
    "    return t_n\n",
    "\n",
    "def t_d(Vc, t_n): # Kesme hızı ve Dönüş devri biliniyorsa çap hesaplanır.\n",
    "    t_d = (Vc * 1000)/(math.pi * t_n)\n",
    "    return t_d"
   ]
  },
  {
   "cell_type": "markdown",
   "id": "24e006a9-4986-4ac3-9911-ba18dd0104ee",
   "metadata": {},
   "source": [
    "360 mm çapındaki testere 100 d/dak ile dönerse\n",
    "Vc = (Pi * d *n)/1000 formülünden yararlanarak\n",
    "Kesme hızını bulabiliriz."
   ]
  },
  {
   "cell_type": "code",
   "execution_count": 9,
   "id": "2b57c802-cc60-42e2-adf6-6fbe94246ac0",
   "metadata": {},
   "outputs": [
    {
     "data": {
      "text/plain": [
       "113.09733552923255"
      ]
     },
     "execution_count": 9,
     "metadata": {},
     "output_type": "execute_result"
    }
   ],
   "source": [
    "Vc(360,100)"
   ]
  },
  {
   "cell_type": "code",
   "execution_count": 10,
   "id": "9b74d984-e379-495d-a641-5426c4718328",
   "metadata": {},
   "outputs": [
    {
     "data": {
      "text/plain": [
       "360.0"
      ]
     },
     "execution_count": 10,
     "metadata": {},
     "output_type": "execute_result"
    }
   ],
   "source": [
    "t_d(Vc(360, t_n(100,100)), t_n(100,100))"
   ]
  },
  {
   "cell_type": "code",
   "execution_count": null,
   "id": "8312c1aa-5987-4168-94bc-59c908d4c8eb",
   "metadata": {},
   "outputs": [],
   "source": []
  }
 ],
 "metadata": {
  "kernelspec": {
   "display_name": "Python 3 (ipykernel)",
   "language": "python",
   "name": "python3"
  },
  "language_info": {
   "codemirror_mode": {
    "name": "ipython",
    "version": 3
   },
   "file_extension": ".py",
   "mimetype": "text/x-python",
   "name": "python",
   "nbconvert_exporter": "python",
   "pygments_lexer": "ipython3",
   "version": "3.8.17"
  }
 },
 "nbformat": 4,
 "nbformat_minor": 5
}
