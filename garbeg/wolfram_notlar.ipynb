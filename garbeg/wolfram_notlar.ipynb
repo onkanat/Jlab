{
 "cells": [
  {
   "cell_type": "markdown",
   "id": "36b07422-b3d5-4dd1-ba51-1ed32539bd79",
   "metadata": {},
   "source": [
    "## Wolfram Client Library Çalışmaları :\n",
    "\n",
    "Doğrudan yerel makinede çalışan Wolfram Language Engine e bağlanıp işlemleri yapıyoruz.\n"
   ]
  },
  {
   "cell_type": "code",
   "execution_count": 1,
   "id": "547e964c-c115-493f-9f6f-325fb6d97265",
   "metadata": {},
   "outputs": [],
   "source": [
    "from wolframclient.evaluation import WolframLanguageSession\n",
    "from wolframclient.language import wl, wlexpr\n",
    "\n",
    "\n",
    "session = WolframLanguageSession()"
   ]
  },
  {
   "cell_type": "code",
   "execution_count": 4,
   "id": "a03e4461-043d-4bd1-bb6b-c8b8a6d0c22c",
   "metadata": {},
   "outputs": [],
   "source": [
    "a = session.evaluate(wlexpr('Range[5]'))"
   ]
  },
  {
   "cell_type": "code",
   "execution_count": 14,
   "id": "c858c9f3-bda8-4ac0-853e-a2c834630af3",
   "metadata": {},
   "outputs": [
    {
     "name": "stdout",
     "output_type": "stream",
     "text": [
      "[1 2 3 4 5]\n",
      "En Küçük Sayı:1 Range[5] için\n"
     ]
    }
   ],
   "source": [
    "print(a)\n",
    "b = session.evaluate(wl.MinMax(a))\n",
    "print(f'En Küçük Sayı:{b[0]} Range[{b[1]}] için')"
   ]
  },
  {
   "cell_type": "code",
   "execution_count": 4,
   "id": "af4e4331-0c23-48d6-b1f9-014f72985057",
   "metadata": {},
   "outputs": [],
   "source": [
    "session.terminate()"
   ]
  }
 ],
 "metadata": {
  "kernelspec": {
   "display_name": "Python 3 (ipykernel)",
   "language": "python",
   "name": "python3"
  },
  "language_info": {
   "codemirror_mode": {
    "name": "ipython",
    "version": 3
   },
   "file_extension": ".py",
   "mimetype": "text/x-python",
   "name": "python",
   "nbconvert_exporter": "python",
   "pygments_lexer": "ipython3",
   "version": "3.8.17"
  }
 },
 "nbformat": 4,
 "nbformat_minor": 5
}
