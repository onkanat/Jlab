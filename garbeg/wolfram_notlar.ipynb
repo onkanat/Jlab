{
 "cells": [
  {
   "cell_type": "markdown",
   "id": "36b07422-b3d5-4dd1-ba51-1ed32539bd79",
   "metadata": {},
   "source": [
    "## Wolfram Client Library Çalışmaları :\n",
    "\n",
    "Doğrudan yerel makinede çalışan Wolfram Language Engine e bağlanıp işlemleri yapıyoruz.\n"
   ]
  },
  {
   "cell_type": "code",
   "execution_count": 1,
   "id": "547e964c-c115-493f-9f6f-325fb6d97265",
   "metadata": {},
   "outputs": [],
   "source": [
    "from wolframclient.evaluation import WolframLanguageSession\n",
    "from wolframclient.language import wl, wlexpr\n",
    "\n",
    "\n",
    "session = WolframLanguageSession()"
   ]
  },
  {
   "cell_type": "code",
   "execution_count": 2,
   "id": "a03e4461-043d-4bd1-bb6b-c8b8a6d0c22c",
   "metadata": {},
   "outputs": [],
   "source": [
    "a = session.evaluate(wlexpr('Range[5]'))"
   ]
  },
  {
   "cell_type": "code",
   "execution_count": 3,
   "id": "c858c9f3-bda8-4ac0-853e-a2c834630af3",
   "metadata": {},
   "outputs": [
    {
     "name": "stdout",
     "output_type": "stream",
     "text": [
      "[1 2 3 4 5]\n",
      "En Küçük Sayı:1 Range[5] için\n"
     ]
    }
   ],
   "source": [
    "print(a)\n",
    "b = session.evaluate(wl.MinMax(a))\n",
    "print(f'En Küçük Sayı:{b[0]} Range[{b[1]}] için')"
   ]
  },
  {
   "cell_type": "code",
   "execution_count": 4,
   "id": "badea2f3-b86f-44de-a4f7-0bea63571500",
   "metadata": {},
   "outputs": [
    {
     "data": {
      "text/html": [
       "<div>\n",
       "<style scoped>\n",
       "    .dataframe tbody tr th:only-of-type {\n",
       "        vertical-align: middle;\n",
       "    }\n",
       "\n",
       "    .dataframe tbody tr th {\n",
       "        vertical-align: top;\n",
       "    }\n",
       "\n",
       "    .dataframe thead th {\n",
       "        text-align: right;\n",
       "    }\n",
       "</style>\n",
       "<table border=\"1\" class=\"dataframe\">\n",
       "  <thead>\n",
       "    <tr style=\"text-align: right;\">\n",
       "      <th></th>\n",
       "      <th>A</th>\n",
       "      <th>B</th>\n",
       "    </tr>\n",
       "  </thead>\n",
       "  <tbody>\n",
       "    <tr>\n",
       "      <th>id1</th>\n",
       "      <td>1</td>\n",
       "      <td>11</td>\n",
       "    </tr>\n",
       "    <tr>\n",
       "      <th>id2</th>\n",
       "      <td>2</td>\n",
       "      <td>12</td>\n",
       "    </tr>\n",
       "  </tbody>\n",
       "</table>\n",
       "</div>"
      ],
      "text/plain": [
       "     A   B\n",
       "id1  1  11\n",
       "id2  2  12"
      ]
     },
     "execution_count": 4,
     "metadata": {},
     "output_type": "execute_result"
    }
   ],
   "source": [
    "import pandas\n",
    "df = pandas.DataFrame({'A': [1, 2], 'B': [11, 12]}, index=['id1', 'id2'])\n",
    "df\n",
    "\n"
   ]
  },
  {
   "cell_type": "code",
   "execution_count": 5,
   "id": "dabcc335-92a3-4638-aa80-a5ac5a2eb5fb",
   "metadata": {},
   "outputs": [
    {
     "data": {
      "text/plain": [
       "{'A': 3, 'B': 23}"
      ]
     },
     "execution_count": 5,
     "metadata": {},
     "output_type": "execute_result"
    }
   ],
   "source": [
    "session.evaluate(wl.Total(df))"
   ]
  },
  {
   "cell_type": "code",
   "execution_count": 11,
   "id": "558b26fb-c989-4d92-aecc-5f77732d6952",
   "metadata": {},
   "outputs": [
    {
     "data": {
      "text/plain": [
       "'NALSAÇILIK nakaH'"
      ]
     },
     "execution_count": 11,
     "metadata": {},
     "output_type": "execute_result"
    }
   ],
   "source": [
    "str_reverse = session.function(wl.StringReverse)\n",
    "str_reverse('Hakan KILIÇASLAN')"
   ]
  },
  {
   "cell_type": "code",
   "execution_count": 12,
   "id": "e749b107-b58a-44ef-b64e-7fd75eae1700",
   "metadata": {},
   "outputs": [
    {
     "data": {
      "text/plain": [
       "Quantity[12, 'Hours']"
      ]
     },
     "execution_count": 12,
     "metadata": {},
     "output_type": "execute_result"
    }
   ],
   "source": [
    "wl.Quantity(12, \"Hours\")"
   ]
  },
  {
   "cell_type": "code",
   "execution_count": 17,
   "id": "31030864-7801-4502-a0c2-b9b4e21ace34",
   "metadata": {},
   "outputs": [
    {
     "data": {
      "text/plain": [
       "0"
      ]
     },
     "execution_count": 17,
     "metadata": {},
     "output_type": "execute_result"
    }
   ],
   "source": [
    "limit = wlexpr('Limit[x Log[x^2], x -> 0]')\n",
    "session.evaluate(limit)"
   ]
  },
  {
   "cell_type": "code",
   "execution_count": 18,
   "id": "ae3f4705-cac2-44b8-b894-eadc4f247e8b",
   "metadata": {},
   "outputs": [
    {
     "data": {
      "text/plain": [
       "(Entity['Ocean', 'MarmaraSea'],)"
      ]
     },
     "execution_count": 18,
     "metadata": {},
     "output_type": "execute_result"
    }
   ],
   "source": [
    "ocean = wlexpr('GeoNearest[Entity[\"Ocean\"], Here]')\n",
    "session.evaluate(ocean)"
   ]
  },
  {
   "cell_type": "code",
   "execution_count": 2,
   "id": "c91ec49c-4977-4f1e-b402-45141b5d5b69",
   "metadata": {},
   "outputs": [
    {
     "data": {
      "text/plain": [
       "Quantity[145, IndependentUnit['moons']]"
      ]
     },
     "execution_count": 2,
     "metadata": {},
     "output_type": "execute_result"
    }
   ],
   "source": [
    "session.evaluate(wl.WolframAlpha(\"number of moons of Saturn\", \"Result\"))"
   ]
  },
  {
   "cell_type": "code",
   "execution_count": 1,
   "id": "af4e4331-0c23-48d6-b1f9-014f72985057",
   "metadata": {},
   "outputs": [
    {
     "ename": "NameError",
     "evalue": "name 'session' is not defined",
     "output_type": "error",
     "traceback": [
      "\u001b[0;31m---------------------------------------------------------------------------\u001b[0m",
      "\u001b[0;31mNameError\u001b[0m                                 Traceback (most recent call last)",
      "Cell \u001b[0;32mIn[1], line 1\u001b[0m\n\u001b[0;32m----> 1\u001b[0m \u001b[43msession\u001b[49m\u001b[38;5;241m.\u001b[39mterminate()\n",
      "\u001b[0;31mNameError\u001b[0m: name 'session' is not defined"
     ]
    }
   ],
   "source": [
    "session.terminate()"
   ]
  },
  {
   "cell_type": "code",
   "execution_count": 14,
   "id": "48d17d25-b902-436d-8ac5-5ef08a157154",
   "metadata": {},
   "outputs": [
    {
     "name": "stdout",
     "output_type": "stream",
     "text": [
      "[0, 1, 2, 3, 4, 5, 6, 7, 8, 9, 10, 11, 12, 13, 14, 15, 16, 17, 18, 19]\n",
      "[45, 45, 45, 45, 45, 45, 45, 45, 45, 45, 45, 45, 45, 45, 45, 45, 45, 45, 45, 45]\n",
      "[0, 3, 6, 9, 12, 15, 18, 21, 24, 27, 30, 33, 36, 39, 42, 45, 48, 51, 54, 57]\n",
      "[45, 90, 129, 162, 189, 210, 225, 234, 237, 234, 225, 210, 189, 162, 129, 90, 45, -6, -63, -126]\n"
     ]
    }
   ],
   "source": [
    "import matplotlib.pyplot as plt\n",
    "import numpy as np\n",
    "\n",
    "A = []    # m/s\n",
    "B = []    # m/s\n",
    "Ba = 3    # m/s^2\n",
    "t = []    # saniye\n",
    "F = []    # metre\n",
    "\n",
    "for i in range(20):\n",
    "    t.append(i)   \n",
    "    A.append(45)\n",
    "    Bv = Ba*(i) # B Arabasının hızı\n",
    "    B.append(Bv)\n",
    "\n",
    "    A_cord = 45 + A[i]*i\n",
    "    B_cord = B[i]*(i-1)\n",
    "    A_Bf = (A_cord - B_cord)\n",
    "    F.append(A_Bf)\n",
    "print(t)\n",
    "print(A)\n",
    "print(B)\n",
    "print(F)"
   ]
  },
  {
   "cell_type": "code",
   "execution_count": 15,
   "id": "9f3a752f-477a-4e96-bcdd-4357352f35a8",
   "metadata": {},
   "outputs": [
    {
     "data": {
      "image/png": "[encoded data removed]",
      "text/plain": [
       "<Figure size 640x480 with 1 Axes>"
      ]
     },
     "metadata": {},
     "output_type": "display_data"
    }
   ],
   "source": [
    "fig, ax = plt.subplots()\n",
    "ax.plot(t,A)\n",
    "ax.plot(t,B)\n",
    "ax.plot(t,F)\n",
    "ax.set(xlim=(0,30), xticks=np.arange(1,30))\n",
    "ax.grid()\n",
    "plt.show()"
   ]
  },
  {
   "cell_type": "code",
   "execution_count": null,
   "id": "81b0a758-ca0a-45d9-a39f-b0f4f60ada73",
   "metadata": {},
   "outputs": [],
   "source": []
  },
  {
   "cell_type": "code",
   "execution_count": null,
   "id": "eacf30ae-93ad-457f-9c04-ffc5a2b49720",
   "metadata": {},
   "outputs": [],
   "source": []
  }
 ],
 "metadata": {
  "kernelspec": {
   "display_name": "Python 3 (ipykernel)",
   "language": "python",
   "name": "python3"
  },
  "language_info": {
   "codemirror_mode": {
    "name": "ipython",
    "version": 3
   },
   "file_extension": ".py",
   "mimetype": "text/x-python",
   "name": "python",
   "nbconvert_exporter": "python",
   "pygments_lexer": "ipython3",
   "version": "3.8.17"
  }
 },
 "nbformat": 4,
 "nbformat_minor": 5
}
